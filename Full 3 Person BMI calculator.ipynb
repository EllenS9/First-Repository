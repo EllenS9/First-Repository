{
 "cells": [
  {
   "cell_type": "code",
   "execution_count": 47,
   "metadata": {},
   "outputs": [
    {
     "name": "stdout",
     "output_type": "stream",
     "text": [
      "Ellie 's BMI:  20.202020202020204\n",
      "Ellie is normal weight. It is suggested that Ellie keep her calorie intake the same & maintain activity levels\n",
      "James 's BMI:  21.280276816609\n",
      "James is normal weight. It is suggested that James keep his calorie intake the same & maintain activity levels\n",
      "Kate Moss 's BMI:  16.262975778546714\n",
      "Kate Moss is underweight. Kate Mossis suggested to increase her calorie intake & to get plenty of exercise.\n"
     ]
    }
   ],
   "source": [
    "name1=\"Ellie\"\n",
    "gender1 = \"f\"\n",
    "height_m1 = 1.65\n",
    "weight_kg1 = 55\n",
    "\n",
    "name2=\"James\"\n",
    "gender2 = \"m\"\n",
    "height_m2 = 1.70\n",
    "weight_kg2 = 61.5\n",
    "\n",
    "name3=\"Kate Moss\"\n",
    "gender3 = \"f\"\n",
    "height_m3 = 1.7\n",
    "weight_kg3 = 47\n",
    "\n",
    "if(gender1== \"f\"):\n",
    "    his_or_her1 = \"her\"\n",
    "elif(gender1 == \"m\"):\n",
    "    his_or_her1 = \"his\"\n",
    "else:\n",
    "    his_or_her1 = name1 + \"'s\"\n",
    "\n",
    "if(gender2 == \"f\"):\n",
    "    his_or_her2 = \"her\"\n",
    "elif(gender2 == \"m\"):\n",
    "    his_or_her2 = \"his\"\n",
    "else:\n",
    "    his_or_her2 = name + \"'s\"\n",
    "\n",
    "if(gender3 == \"f\"):\n",
    "    his_or_her3 = \"her\"\n",
    "elif(gender3 == \"m\"):\n",
    "    his_or_her3 = \"his\"\n",
    "else:\n",
    "    his_or_her3 = name + \"'s\"\n",
    "    \n",
    "bmi= weight_kg1/ (height_m1 ** 2)\n",
    "print (name1, \"'s BMI: \", bmi)\n",
    "if bmi < 18:\n",
    "    print (name + \" is underweight. \" + name1 +  \"is suggested to increase \" + his_or_her1 + \" calorie intake & to get plenty of exercise.\")\n",
    "else:\n",
    "    if 18< bmi <25:\n",
    "        print (name1 + \" is normal weight. It is suggested that \" + name1 + \" keep \" + his_or_her1 + \" calorie intake the same & maintain activity levels\")\n",
    "    if 25< bmi <30:\n",
    "        print (name1 + \" is overweight. It is suggested that \" + name1 + \" reviewed \" + his_or_her1 + \" calorie intake & activity levels\")\n",
    "    if bmi >30: \n",
    "        print (name1 + \" is obese. It is suggested that \" + name1 + \" went to see a GP because there may be at risk of type 2 diabetes & heart disease.\")\n",
    "        \n",
    "bmi2= weight_kg2/ (height_m2 ** 2)\n",
    "print (name2, \"'s BMI: \", bmi2)\n",
    "if bmi2 < 18:\n",
    "    print (name2 + \" is underweight. \" + name2 +  \"is suggested to increase \" + his_or_her2 + \" calorie intake & to get plenty of exercise.\")\n",
    "else:\n",
    "    if 18< bmi2 <25:\n",
    "        print (name2 + \" is normal weight. It is suggested that \" + name2 + \" keep \" + his_or_her2 + \" calorie intake the same & maintain activity levels\")\n",
    "    if 25< bmi2 <30:\n",
    "        print (name2 + \" is overweight. It is suggested that \" + name2 + \" reviewed \" + his_or_her2 + \" calorie intake & activity levels\")\n",
    "    if bmi2 >30: \n",
    "        print (name + \" is obese. It is suggested that \" + name2 + \" went to see a GP because there may be at risk of type 2 diabetes & heart disease.\")\n",
    "        \n",
    "bmi3= weight_kg3/ (height_m3 ** 2)\n",
    "print (name3, \"'s BMI: \", bmi3)\n",
    "if bmi3 < 18:\n",
    "    print (name3 + \" is underweight. \" + name3 +  \"is suggested to increase \" + his_or_her3 + \" calorie intake & to get plenty of exercise.\")\n",
    "else:\n",
    "    if 18< bmi3 <25:\n",
    "        print (name3 + \" is normal weight. It is suggested that \" + name3 + \" keep \" + his_or_her3 + \" calorie intake the same & maintain activity levels\")\n",
    "    if 25< bmi3 <30:\n",
    "        print (name3 + \" is overweight. It is suggested that \" + name3 + \" reviewed \" + his_or_her3 + \" calorie intake & activity levels\")\n",
    "    if bmi3 >30: \n",
    "        print (name3 + \" is obese. It is suggested that \" + name3 + \" went to see a GP because there may be at risk of type 2 diabetes & heart disease.\")"
   ]
  },
  {
   "cell_type": "code",
   "execution_count": null,
   "metadata": {},
   "outputs": [],
   "source": []
  }
 ],
 "metadata": {
  "kernelspec": {
   "display_name": "Python 3",
   "language": "python",
   "name": "python3"
  },
  "language_info": {
   "codemirror_mode": {
    "name": "ipython",
    "version": 3
   },
   "file_extension": ".py",
   "mimetype": "text/x-python",
   "name": "python",
   "nbconvert_exporter": "python",
   "pygments_lexer": "ipython3",
   "version": "3.6.4"
  }
 },
 "nbformat": 4,
 "nbformat_minor": 2
}
